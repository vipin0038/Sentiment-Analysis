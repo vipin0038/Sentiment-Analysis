{
 "cells": [
  {
   "cell_type": "code",
   "execution_count": 805,
   "id": "bd55ee49-fddd-4264-af7a-066bce975086",
   "metadata": {},
   "outputs": [],
   "source": [
    "import numpy as np\n",
    "import pandas as pd\n",
    "import matplotlib.pyplot as plt\n",
    "import seaborn as sns\n",
    "import re"
   ]
  },
  {
   "cell_type": "code",
   "execution_count": 806,
   "id": "ef571477-33fe-4d02-bb7d-6e36746b3901",
   "metadata": {},
   "outputs": [],
   "source": [
    "df = pd.read_csv(r\"C:\\Users\\vipin\\Downloads\\tweets.csv\")"
   ]
  },
  {
   "cell_type": "code",
   "execution_count": 807,
   "id": "da5056ad-dd1a-4c4d-adb9-daa8063d7b4a",
   "metadata": {},
   "outputs": [
    {
     "data": {
      "text/html": [
       "<div>\n",
       "<style scoped>\n",
       "    .dataframe tbody tr th:only-of-type {\n",
       "        vertical-align: middle;\n",
       "    }\n",
       "\n",
       "    .dataframe tbody tr th {\n",
       "        vertical-align: top;\n",
       "    }\n",
       "\n",
       "    .dataframe thead th {\n",
       "        text-align: right;\n",
       "    }\n",
       "</style>\n",
       "<table border=\"1\" class=\"dataframe\">\n",
       "  <thead>\n",
       "    <tr style=\"text-align: right;\">\n",
       "      <th></th>\n",
       "      <th>id</th>\n",
       "      <th>label</th>\n",
       "      <th>tweet</th>\n",
       "    </tr>\n",
       "  </thead>\n",
       "  <tbody>\n",
       "    <tr>\n",
       "      <th>0</th>\n",
       "      <td>1</td>\n",
       "      <td>0</td>\n",
       "      <td>#fingerprint #Pregnancy Test https://goo.gl/h1MfQV #android #apps #beautiful #cute #health #igers #iphoneonly #iphonesia #iphone</td>\n",
       "    </tr>\n",
       "    <tr>\n",
       "      <th>1</th>\n",
       "      <td>2</td>\n",
       "      <td>0</td>\n",
       "      <td>Finally a transparant silicon case ^^ Thanks to my uncle :) #yay #Sony #Xperia #S #sonyexperias… http://instagram.com/p/YGEt5JC6JM/</td>\n",
       "    </tr>\n",
       "    <tr>\n",
       "      <th>2</th>\n",
       "      <td>3</td>\n",
       "      <td>0</td>\n",
       "      <td>We love this! Would you go? #talk #makememories #unplug #relax #iphone #smartphone #wifi #connect... http://fb.me/6N3LsUpCu</td>\n",
       "    </tr>\n",
       "    <tr>\n",
       "      <th>3</th>\n",
       "      <td>4</td>\n",
       "      <td>0</td>\n",
       "      <td>I'm wired I know I'm George I was made that way ;) #iphone #cute #daventry #home http://instagr.am/p/Li_5_ujS4k/</td>\n",
       "    </tr>\n",
       "    <tr>\n",
       "      <th>4</th>\n",
       "      <td>5</td>\n",
       "      <td>1</td>\n",
       "      <td>What amazing service! Apple won't even talk to me about a question I have unless I pay them $19.95 for their stupid support!</td>\n",
       "    </tr>\n",
       "  </tbody>\n",
       "</table>\n",
       "</div>"
      ],
      "text/plain": [
       "   id  label  \\\n",
       "0   1      0   \n",
       "1   2      0   \n",
       "2   3      0   \n",
       "3   4      0   \n",
       "4   5      1   \n",
       "\n",
       "                                                                                                                                 tweet  \n",
       "0     #fingerprint #Pregnancy Test https://goo.gl/h1MfQV #android #apps #beautiful #cute #health #igers #iphoneonly #iphonesia #iphone  \n",
       "1  Finally a transparant silicon case ^^ Thanks to my uncle :) #yay #Sony #Xperia #S #sonyexperias… http://instagram.com/p/YGEt5JC6JM/  \n",
       "2          We love this! Would you go? #talk #makememories #unplug #relax #iphone #smartphone #wifi #connect... http://fb.me/6N3LsUpCu  \n",
       "3                     I'm wired I know I'm George I was made that way ;) #iphone #cute #daventry #home http://instagr.am/p/Li_5_ujS4k/  \n",
       "4         What amazing service! Apple won't even talk to me about a question I have unless I pay them $19.95 for their stupid support!  "
      ]
     },
     "execution_count": 807,
     "metadata": {},
     "output_type": "execute_result"
    }
   ],
   "source": [
    "df.head()"
   ]
  },
  {
   "cell_type": "code",
   "execution_count": 665,
   "id": "55ed7190-80df-4211-9d77-1d87bbd318a5",
   "metadata": {},
   "outputs": [
    {
     "name": "stdout",
     "output_type": "stream",
     "text": [
      "<class 'pandas.core.frame.DataFrame'>\n",
      "RangeIndex: 7920 entries, 0 to 7919\n",
      "Data columns (total 3 columns):\n",
      " #   Column  Non-Null Count  Dtype \n",
      "---  ------  --------------  ----- \n",
      " 0   id      7920 non-null   int64 \n",
      " 1   label   7920 non-null   int64 \n",
      " 2   tweet   7920 non-null   object\n",
      "dtypes: int64(2), object(1)\n",
      "memory usage: 185.8+ KB\n"
     ]
    }
   ],
   "source": [
    "df.info()"
   ]
  },
  {
   "cell_type": "code",
   "execution_count": 668,
   "id": "a8e1bb28-6295-4538-af2f-4428ed4e50fc",
   "metadata": {},
   "outputs": [
    {
     "data": {
      "text/plain": [
       "label\n",
       "0    0.744192\n",
       "1    0.255808\n",
       "Name: proportion, dtype: float64"
      ]
     },
     "execution_count": 668,
     "metadata": {},
     "output_type": "execute_result"
    }
   ],
   "source": [
    "df.label.value_counts(normalize = True)"
   ]
  },
  {
   "cell_type": "code",
   "execution_count": 669,
   "id": "649d0d0e-399b-4ce2-a4a8-4b67efa4b37d",
   "metadata": {},
   "outputs": [
    {
     "data": {
      "text/plain": [
       "<Axes: xlabel='label', ylabel='count'>"
      ]
     },
     "execution_count": 669,
     "metadata": {},
     "output_type": "execute_result"
    },
    {
     "data": {
      "image/png": "[encoded data removed]",
      "text/plain": [
       "<Figure size 640x480 with 1 Axes>"
      ]
     },
     "metadata": {},
     "output_type": "display_data"
    }
   ],
   "source": [
    "sns.countplot(x = 'label',data = df,hue = 'label')"
   ]
  },
  {
   "cell_type": "code",
   "execution_count": 670,
   "id": "9fd426ab-eced-4004-8539-e301182cc51b",
   "metadata": {},
   "outputs": [
    {
     "data": {
      "text/plain": [
       "label\n",
       "0    5894\n",
       "1    2026\n",
       "Name: count, dtype: int64"
      ]
     },
     "execution_count": 670,
     "metadata": {},
     "output_type": "execute_result"
    }
   ],
   "source": [
    "# Check for the class balance\n",
    "df['label'].value_counts()"
   ]
  },
  {
   "cell_type": "code",
   "execution_count": 671,
   "id": "b7358f81-c7fb-46a4-8e62-6371e0895c6b",
   "metadata": {},
   "outputs": [],
   "source": [
    "import contractions\n"
   ]
  },
  {
   "cell_type": "code",
   "execution_count": 598,
   "id": "43064226-9482-4452-8a49-4269224e59b2",
   "metadata": {},
   "outputs": [],
   "source": [
    "# Text Normalization: Stemming or Lemmatization (prefer)\n",
    "from nltk.stem import WordNetLemmatizer\n",
    "lemmatizer = WordNetLemmatizer()\n"
   ]
  },
  {
   "cell_type": "code",
   "execution_count": 672,
   "id": "5c4c353a-5851-46f1-b796-b243b216fae9",
   "metadata": {},
   "outputs": [
    {
     "name": "stderr",
     "output_type": "stream",
     "text": [
      "[nltk_data] Downloading package punkt to\n",
      "[nltk_data]     C:\\Users\\vipin\\AppData\\Roaming\\nltk_data...\n",
      "[nltk_data]   Package punkt is already up-to-date!\n",
      "[nltk_data] Downloading package averaged_perceptron_tagger to\n",
      "[nltk_data]     C:\\Users\\vipin\\AppData\\Roaming\\nltk_data...\n",
      "[nltk_data]   Package averaged_perceptron_tagger is already up-to-\n",
      "[nltk_data]       date!\n",
      "[nltk_data] Downloading package wordnet to\n",
      "[nltk_data]     C:\\Users\\vipin\\AppData\\Roaming\\nltk_data...\n",
      "[nltk_data]   Package wordnet is already up-to-date!\n"
     ]
    },
    {
     "data": {
      "text/plain": [
       "True"
      ]
     },
     "execution_count": 672,
     "metadata": {},
     "output_type": "execute_result"
    }
   ],
   "source": [
    "import nltk\n",
    "from nltk.corpus import wordnet\n",
    "from nltk import pos_tag\n",
    "nltk.download('punkt')\n",
    "nltk.download('averaged_perceptron_tagger')\n",
    "nltk.download('wordnet')\n",
    "\n"
   ]
  },
  {
   "cell_type": "code",
   "execution_count": 673,
   "id": "193f4185-7aa9-46cf-ab9f-b89a8428040c",
   "metadata": {},
   "outputs": [],
   "source": [
    "from sklearn.feature_extraction.text import ENGLISH_STOP_WORDS"
   ]
  },
  {
   "cell_type": "code",
   "execution_count": null,
   "id": "7e6d375a-d844-40c0-9bc5-d1add723bb8b",
   "metadata": {},
   "outputs": [],
   "source": []
  },
  {
   "cell_type": "code",
   "execution_count": 674,
   "id": "00df159a-7547-4b07-8ab6-7fa0e6b97341",
   "metadata": {},
   "outputs": [],
   "source": [
    "# Function to map NLTK POS tags to WordNet POS tags\n",
    "def get_wordnet_pos(tag):\n",
    "    if tag.startswith('J'):\n",
    "        return wordnet.ADJ  # Adjective\n",
    "    elif tag.startswith('V'):\n",
    "        return wordnet.VERB  # Verb\n",
    "    elif tag.startswith('N'):\n",
    "        return wordnet.NOUN  # Noun\n",
    "    elif tag.startswith('R'):\n",
    "        return wordnet.ADV  # Adverb\n",
    "    else:\n",
    "        return wordnet.NOUN  # Default to noun\n",
    "\n"
   ]
  },
  {
   "cell_type": "code",
   "execution_count": 776,
   "id": "dbb6338c-27b4-4d96-bde6-cd306381881e",
   "metadata": {},
   "outputs": [],
   "source": [
    "def tweet_cleaner__stopwords(text):\n",
    "   # new_text = re.sub(r\"'s\\b\", \" is\", text) # replaces \"'s\" with 'is'\n",
    "    new_text = re.sub(\"#\", \"\", text) # replaces \"#\" with ''\n",
    "    new_text = re.sub(\"@[A-Za-z0-9]+\", \"\", new_text) # only retains alphabet and numbers\n",
    "    new_text = re.sub(r\"http\\S+\", \"\", new_text)   # removes hyperlink https\n",
    "    new_text = contractions.fix(new_text)    #  reomves all 's    \n",
    "    new_text = re.sub(r\"[^a-zA-Z]\", \" \", new_text)    # only retai\n",
    "    new_text = new_text.lower().strip()\n",
    "    new_text = [token for token in new_text.split() if token not in ENGLISH_STOP_WORDS]\n",
    "    new_text = [token for token in new_text if len(token)>2]     \n",
    "    pos_tags = pos_tag(new_text) # will give a suitable tag like noun,verb,adj\n",
    "    new_word = ' '\n",
    "    for word,tag in pos_tags:\n",
    "         wordnet_pos = get_wordnet_pos(tag)\n",
    "         lemma = lemmatizer.lemmatize(word, pos=wordnet_pos)\n",
    "         new_word = new_word + lemma + \" \"\n",
    "    \n",
    "    return new_word.strip()"
   ]
  },
  {
   "cell_type": "code",
   "execution_count": 676,
   "id": "a328bf9f-29b8-4ba0-b53b-1015d84577ed",
   "metadata": {},
   "outputs": [],
   "source": [
    "df['clean_tweet'] = df['tweet'].apply(tweet_cleaner__stopwords)"
   ]
  },
  {
   "cell_type": "code",
   "execution_count": 677,
   "id": "a798a6f8-a914-47fc-8c47-229e85d33468",
   "metadata": {},
   "outputs": [],
   "source": [
    "from sklearn.feature_extraction.text import CountVectorizer\n",
    "\n",
    "CV = CountVectorizer()\n",
    "CV_features = CV.fit_transform(df['clean_tweet'])\n"
   ]
  },
  {
   "cell_type": "code",
   "execution_count": 678,
   "id": "0ff65bdd-0505-4d09-b53e-3317e93b3819",
   "metadata": {},
   "outputs": [],
   "source": [
    "from sklearn.model_selection import train_test_split\n",
    "\n",
    "X_train, X_test, y_train, y_test = train_test_split(CV_features, df['label'], test_size=0.25, stratify=df['label'], random_state=42,)\n"
   ]
  },
  {
   "cell_type": "code",
   "execution_count": 679,
   "id": "ba878832-503a-46d7-b649-c0b43298e2a7",
   "metadata": {},
   "outputs": [
    {
     "name": "stdout",
     "output_type": "stream",
     "text": [
      "0.969023569023569\n",
      "0.8762626262626263\n"
     ]
    }
   ],
   "source": [
    "# Training model using LR\n",
    "from sklearn.linear_model import LogisticRegression\n",
    "LR = LogisticRegression(solver='liblinear')\n",
    "LR.fit(X_train, y_train)\n",
    "\n",
    "print(LR.score(X_train, y_train))  # train score)\n",
    "print(LR.score(X_test, y_test))   # test score)  "
   ]
  },
  {
   "cell_type": "code",
   "execution_count": 683,
   "id": "a3d08aa0-efed-4d90-8807-bf1c62ee19e6",
   "metadata": {},
   "outputs": [
    {
     "name": "stdout",
     "output_type": "stream",
     "text": [
      "0.8877104377104377\n",
      "0.8777777777777778\n"
     ]
    }
   ],
   "source": [
    "## L1-REGULARIZATION as the apbove model is overfitting\n",
    "LR1 = LogisticRegression(class_weight='balanced', solver='liblinear', penalty='l1', C=0.4)\n",
    "LR1.fit(X_train, y_train)\n",
    "\n",
    "print(LR1.score(X_train, y_train))  # train score)\n",
    "print(LR1.score(X_test, y_test))   # test score)      \n"
   ]
  },
  {
   "cell_type": "code",
   "execution_count": 781,
   "id": "5e131950-718a-4c83-bc13-7d6a73d8944a",
   "metadata": {},
   "outputs": [],
   "source": [
    "## leT'S Cross-Validate the Logistic Regression Model ?????\n",
    "from sklearn.model_selection import cross_val_score, cross_validate"
   ]
  },
  {
   "cell_type": "raw",
   "id": "0e5e58e3-9da6-4bca-859a-54391f7cf8e1",
   "metadata": {},
   "source": [
    "X = CV_features\n",
    "y = df['label']\n"
   ]
  },
  {
   "cell_type": "code",
   "execution_count": 777,
   "id": "510c99bf-889e-4833-a0d5-455644edcd30",
   "metadata": {},
   "outputs": [
    {
     "name": "stdout",
     "output_type": "stream",
     "text": [
      "[0.88194444 0.85984848 0.85795455 0.87689394 0.87752525]\n",
      "87.08\n"
     ]
    }
   ],
   "source": [
    "## crOSS VALIDATE THE LR1 model\n",
    "\n",
    "LR1 = LogisticRegression(class_weight='balanced', solver='liblinear', penalty='l1', C=0.4)\n",
    "kfold = StratifiedKFold(n_splits=5, shuffle=True, random_state=42)\n",
    "results = cross_val_score(LR1, X, y, cv=kfold, scoring='accuracy')\n",
    "print(results)\n",
    "print(np.round((results.mean())*100, 2)) \n",
    "\n"
   ]
  },
  {
   "cell_type": "code",
   "execution_count": 783,
   "id": "8510de62-8d58-4abe-bdda-4b4d31aeb350",
   "metadata": {},
   "outputs": [
    {
     "name": "stdout",
     "output_type": "stream",
     "text": [
      "Fitting 5 folds for each of 4 candidates, totalling 20 fits\n"
     ]
    },
    {
     "name": "stderr",
     "output_type": "stream",
     "text": [
      "C:\\Users\\vipin\\anaconda3\\envs\\datascience\\Lib\\site-packages\\sklearn\\model_selection\\_validation.py:528: FitFailedWarning: \n",
      "5 fits failed out of a total of 20.\n",
      "The score on these train-test partitions for these parameters will be set to nan.\n",
      "If these failures are not expected, you can try to debug them by setting error_score='raise'.\n",
      "\n",
      "Below are more details about the failures:\n",
      "--------------------------------------------------------------------------------\n",
      "5 fits failed with the following error:\n",
      "Traceback (most recent call last):\n",
      "  File \"C:\\Users\\vipin\\anaconda3\\envs\\datascience\\Lib\\site-packages\\sklearn\\model_selection\\_validation.py\", line 866, in _fit_and_score\n",
      "    estimator.fit(X_train, y_train, **fit_params)\n",
      "  File \"C:\\Users\\vipin\\anaconda3\\envs\\datascience\\Lib\\site-packages\\sklearn\\base.py\", line 1382, in wrapper\n",
      "    estimator._validate_params()\n",
      "  File \"C:\\Users\\vipin\\anaconda3\\envs\\datascience\\Lib\\site-packages\\sklearn\\base.py\", line 436, in _validate_params\n",
      "    validate_parameter_constraints(\n",
      "  File \"C:\\Users\\vipin\\anaconda3\\envs\\datascience\\Lib\\site-packages\\sklearn\\utils\\_param_validation.py\", line 98, in validate_parameter_constraints\n",
      "    raise InvalidParameterError(\n",
      "sklearn.utils._param_validation.InvalidParameterError: The 'C' parameter of LogisticRegression must be a float in the range (0.0, inf]. Got np.float64(0.0) instead.\n",
      "\n",
      "  warnings.warn(some_fits_failed_message, FitFailedWarning)\n",
      "C:\\Users\\vipin\\anaconda3\\envs\\datascience\\Lib\\site-packages\\sklearn\\model_selection\\_search.py:1108: UserWarning: One or more of the test scores are non-finite: [       nan 0.87361111 0.87613636 0.87777778]\n",
      "  warnings.warn(\n",
      "C:\\Users\\vipin\\anaconda3\\envs\\datascience\\Lib\\site-packages\\sklearn\\model_selection\\_search.py:1108: UserWarning: One or more of the train scores are non-finite: [       nan 0.89722222 0.92272727 0.94624369]\n",
      "  warnings.warn(\n"
     ]
    }
   ],
   "source": [
    "## Hyper parameter tuning of the LR1 model\n",
    "from sklearn.model_selection import GridSearchCV\n",
    "\n",
    "LR1 = LogisticRegression(class_weight='balanced', solver='liblinear', penalty='l1')\n",
    "\n",
    "C_values = np.arange(0.,2, 0.5) # 20 values\n",
    "\n",
    "grid = GridSearchCV(estimator=LR1, param_grid={'C': C_values}, cv=kfold, scoring='accuracy', \\\n",
    "                    return_train_score=True, verbose=2, n_jobs=-1)\n",
    "grid_results = grid.fit(X,y)\n"
   ]
  },
  {
   "cell_type": "code",
   "execution_count": 790,
   "id": "4bb916c8-716e-41c5-8e90-8aac33392e61",
   "metadata": {},
   "outputs": [
    {
     "data": {
      "text/plain": [
       "{'C': np.float64(1.5)}"
      ]
     },
     "execution_count": 790,
     "metadata": {},
     "output_type": "execute_result"
    }
   ],
   "source": [
    "grid_results.best_params_"
   ]
  },
  {
   "cell_type": "code",
   "execution_count": 792,
   "id": "3ea569a1-7212-4ac6-af9a-f808e3f1b8ba",
   "metadata": {},
   "outputs": [
    {
     "name": "stdout",
     "output_type": "stream",
     "text": [
      "0.9447811447811448\n",
      "0.8767676767676768\n"
     ]
    }
   ],
   "source": [
    "## L1-REGULARIZATION using best parameter\n",
    "LR1 = LogisticRegression(class_weight='balanced', solver='liblinear', penalty='l1',C =1.5) \n",
    "LR1.fit(X_train, y_train)\n",
    "\n",
    "print(LR1.score(X_train, y_train))  # train score)\n",
    "print(LR1.score(X_test, y_test))   # test score)  \n",
    "\n",
    "# we are seeing overfitting here\n"
   ]
  },
  {
   "cell_type": "code",
   "execution_count": 793,
   "id": "ed9f4b4c-a4a1-43f2-aa40-5d07b075b9cb",
   "metadata": {},
   "outputs": [
    {
     "name": "stdout",
     "output_type": "stream",
     "text": [
      "0.8947811447811448\n",
      "0.8762626262626263\n"
     ]
    }
   ],
   "source": [
    "## L1-REGULARIZATION chose a paramter value with less variability\n",
    "LR1 = LogisticRegression(class_weight='balanced', solver='liblinear', penalty='l1',C =.5) \n",
    "LR1.fit(X_train, y_train)\n",
    "\n",
    "print(LR1.score(X_train, y_train))  # train score)\n",
    "print(LR1.score(X_test, y_test))   # test score)      \n"
   ]
  },
  {
   "cell_type": "code",
   "execution_count": 794,
   "id": "55bbdb8e-d530-445f-b92a-37c289303734",
   "metadata": {},
   "outputs": [
    {
     "name": "stdout",
     "output_type": "stream",
     "text": [
      "0.8877104377104377\n",
      "0.8777777777777778\n"
     ]
    }
   ],
   "source": [
    "## L1-REGULARIZATION\n",
    "LR1 = LogisticRegression(class_weight='balanced', solver='liblinear', penalty='l1',C =.4) \n",
    "LR1.fit(X_train, y_train)\n",
    "y_pred =LR1.predict(X_test)\n",
    "\n",
    "print(LR1.score(X_train, y_train))  # train score)\n",
    "print(LR1.score(X_test, y_test))   # test score)      \n"
   ]
  },
  {
   "cell_type": "code",
   "execution_count": 780,
   "id": "fd0eb79c-5e10-4f12-9791-5573fd2beff0",
   "metadata": {},
   "outputs": [
    {
     "name": "stdout",
     "output_type": "stream",
     "text": [
      "[0.86994949 0.875      0.87247475 0.88383838 0.87121212 0.88005051\n",
      " 0.87878788 0.86994949 0.86111111 0.88005051]\n",
      "AVERAGE CV SCORE 87.42\n"
     ]
    }
   ],
   "source": [
    "## cross  validating THE LR1 model\n",
    "\n",
    "LR1 = LogisticRegression(class_weight='balanced', solver='liblinear', penalty='l1', C=0.5)\n",
    "results = cross_val_score(LR1, X, y, cv=10, scoring='accuracy')\n",
    "print(results)\n",
    "print('AVERAGE CV SCORE',np.round((results.mean())*100, 2)) \n",
    "\n"
   ]
  },
  {
   "cell_type": "code",
   "execution_count": 804,
   "id": "ea2c419d-5a21-4cf7-b0bc-5f6cb0bff7fd",
   "metadata": {},
   "outputs": [
    {
     "name": "stdout",
     "output_type": "stream",
     "text": [
      "test_mean_accuracy 0.8742424242424243\n",
      "test_mean_precision 0.7011733605828149\n",
      "test_mean_recall 0.8874628103204409\n"
     ]
    }
   ],
   "source": [
    "## cross  validating THE LR1 model\n",
    "\n",
    "LR1 = LogisticRegression(class_weight='balanced', solver='liblinear', penalty='l1', C=0.5)\n",
    "results = cross_validate(LR1, X, y, cv=10, scoring=['accuracy', 'precision', 'recall'])\n",
    "print('test_mean_accuracy',np.mean(results['test_accuracy']))\n",
    "print('test_mean_precision',np.mean(results['test_precision']))\n",
    "print('test_mean_recall',np.mean(results['test_recall']))\n",
    "#print('AVERAGE CV SCORE',np.round((results.mean())*100, 2)) \n",
    "\n"
   ]
  },
  {
   "cell_type": "code",
   "execution_count": null,
   "id": "f267de4b-39b1-49a7-82ec-d50514f2d2a0",
   "metadata": {},
   "outputs": [],
   "source": []
  },
  {
   "cell_type": "code",
   "execution_count": null,
   "id": "b9e69bc1-a0c1-42eb-b0bc-d68a6a16f6fa",
   "metadata": {},
   "outputs": [],
   "source": []
  }
 ],
 "metadata": {
  "kernelspec": {
   "display_name": "Python 3 (ipykernel)",
   "language": "python",
   "name": "python3"
  },
  "language_info": {
   "codemirror_mode": {
    "name": "ipython",
    "version": 3
   },
   "file_extension": ".py",
   "mimetype": "text/x-python",
   "name": "python",
   "nbconvert_exporter": "python",
   "pygments_lexer": "ipython3",
   "version": "3.12.9"
  }
 },
 "nbformat": 4,
 "nbformat_minor": 5
}
